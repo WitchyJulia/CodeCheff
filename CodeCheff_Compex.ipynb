{
 "cells": [
  {
   "cell_type": "code",
   "execution_count": 6,
   "metadata": {},
   "outputs": [
    {
     "name": "stdout",
     "output_type": "stream",
     "text": [
      "2 3 1 3 2\n",
      "2\n",
      "2\n",
      "2.0\n",
      "4.0\n"
     ]
    }
   ],
   "source": [
    "uncompressed = str(raw_input())\n",
    "uncompressed = list(uncompressed.split())\n",
    "rows = uncompressed[0:1:1]\n",
    "rows = int(\"\".join(rows))\n",
    "uncompressed = map(int, uncompressed)\n",
    "start = 2\n",
    "stop = 3\n",
    "\n",
    "for number in range(0,rows):\n",
    "    n = uncompressed[start:stop:1]\n",
    "    n.append(0)\n",
    "    def n_to_int(x):\n",
    "        firstDigit = x[0]         \n",
    "        return firstDigit\n",
    "    n = n_to_int(n)\n",
    "    n = float(n * 2.0)\n",
    "    print n\n",
    "    \n",
    "    start += 2\n",
    "    stop +=2\n",
    "\n",
    "\n",
    "\n",
    "\n",
    "\n",
    "   \n",
    "\n"
   ]
  },
  {
   "cell_type": "code",
   "execution_count": 7,
   "metadata": {},
   "outputs": [
    {
     "name": "stdout",
     "output_type": "stream",
     "text": [
      "2 3 1 3 2\n",
      "2.0\n",
      "4.0\n"
     ]
    }
   ],
   "source": [
    "\n",
    "\n",
    "\n"
   ]
  },
  {
   "cell_type": "code",
   "execution_count": null,
   "metadata": {},
   "outputs": [],
   "source": []
  },
  {
   "cell_type": "code",
   "execution_count": null,
   "metadata": {},
   "outputs": [],
   "source": []
  },
  {
   "cell_type": "code",
   "execution_count": null,
   "metadata": {},
   "outputs": [],
   "source": []
  },
  {
   "cell_type": "code",
   "execution_count": null,
   "metadata": {},
   "outputs": [],
   "source": []
  },
  {
   "cell_type": "code",
   "execution_count": null,
   "metadata": {},
   "outputs": [],
   "source": []
  },
  {
   "cell_type": "code",
   "execution_count": null,
   "metadata": {},
   "outputs": [],
   "source": []
  },
  {
   "cell_type": "code",
   "execution_count": null,
   "metadata": {},
   "outputs": [],
   "source": []
  },
  {
   "cell_type": "code",
   "execution_count": null,
   "metadata": {},
   "outputs": [],
   "source": []
  }
 ],
 "metadata": {
  "kernelspec": {
   "display_name": "Python 2",
   "language": "python",
   "name": "python2"
  },
  "language_info": {
   "codemirror_mode": {
    "name": "ipython",
    "version": 2
   },
   "file_extension": ".py",
   "mimetype": "text/x-python",
   "name": "python",
   "nbconvert_exporter": "python",
   "pygments_lexer": "ipython2",
   "version": "2.7.14"
  }
 },
 "nbformat": 4,
 "nbformat_minor": 2
}
